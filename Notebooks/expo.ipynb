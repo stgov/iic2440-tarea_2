{
 "cells": [
  {
   "cell_type": "code",
   "execution_count": 1,
   "metadata": {},
   "outputs": [],
   "source": [
    "# !pip install pyspark -q"
   ]
  },
  {
   "cell_type": "code",
   "execution_count": 2,
   "metadata": {},
   "outputs": [],
   "source": [
    "from pyspark import SparkContext"
   ]
  },
  {
   "attachments": {},
   "cell_type": "markdown",
   "metadata": {},
   "source": [
    "## Page rank en entorno distribuido"
   ]
  },
  {
   "cell_type": "code",
   "execution_count": 3,
   "metadata": {},
   "outputs": [
    {
     "name": "stderr",
     "output_type": "stream",
     "text": [
      "23/06/27 11:36:04 WARN Utils: Your hostname, santiago-B460MAORUSPRO resolves to a loopback address: 127.0.1.1; using 192.168.31.56 instead (on interface eno1)\n",
      "23/06/27 11:36:04 WARN Utils: Set SPARK_LOCAL_IP if you need to bind to another address\n",
      "Setting default log level to \"WARN\".\n",
      "To adjust logging level use sc.setLogLevel(newLevel). For SparkR, use setLogLevel(newLevel).\n",
      "23/06/27 11:36:05 WARN NativeCodeLoader: Unable to load native-hadoop library for your platform... using builtin-java classes where applicable\n"
     ]
    }
   ],
   "source": [
    "# Inicializar SparkContext\n",
    "sc = SparkContext(\"local\", \"PageRank\")"
   ]
  },
  {
   "cell_type": "code",
   "execution_count": 4,
   "metadata": {},
   "outputs": [],
   "source": [
    "# Función para preparar el RDD con los Page Ranks iniciales\n",
    "def initialize_page_ranks(nodes):\n",
    "    initial_rank = 1.0 / len(nodes)\n",
    "    return sc.parallelize([(node, initial_rank) for node in nodes])\n",
    "\n",
    "# Función para preparar el mensaje que cada nodo enviará\n",
    "def prepare_messages(node, neighbors, rank):\n",
    "    num_neighbors = len(neighbors)\n",
    "    if num_neighbors == 0:\n",
    "        return []\n",
    "    else:\n",
    "        rank_per_neighbor = rank / num_neighbors\n",
    "        return [(neighbor, rank_per_neighbor) for neighbor in neighbors]\n",
    "\n",
    "# Función para realizar el intercambio de mensajes entre nodos\n",
    "def exchange_messages(nodes, edges, ranks):\n",
    "    edges_rdd = sc.parallelize(edges)\n",
    "    neighbor_ranks = edges_rdd.join(ranks).flatMap(lambda x: prepare_messages(x[0], x[1][0], x[1][1]))\n",
    "    return neighbor_ranks.reduceByKey(lambda x, y: x + y)\n",
    "\n",
    "# Función para actualizar el valor de Page Rank considerando el damping factor\n",
    "def update_page_ranks(ranks, damping_factor, num_nodes):\n",
    "    return ranks.mapValues(lambda rank: (damping_factor * rank) + ((1 - damping_factor) / num_nodes))\n",
    "\n",
    "# Función para verificar la convergencia del algoritmo\n",
    "def check_convergence(prev_ranks, current_ranks, tolerance):\n",
    "    return prev_ranks.join(current_ranks).map(lambda x: abs(x[1][0] - x[1][1])).max() <= tolerance"
   ]
  },
  {
   "cell_type": "code",
   "execution_count": 5,
   "metadata": {},
   "outputs": [],
   "source": [
    "# Grafo de ejemplo\n",
    "nodes = [1, 2, 3, 4]\n",
    "edges = [(1, [2]), (2, [3, 4]), (3, [2, 4])]\n",
    "\n",
    "# Parámetros del algoritmo\n",
    "damping_factor = 0.65\n",
    "max_iterations = 10\n",
    "tolerance = 0.01"
   ]
  },
  {
   "cell_type": "code",
   "execution_count": 6,
   "metadata": {},
   "outputs": [
    {
     "name": "stderr",
     "output_type": "stream",
     "text": [
      "                                                                                \r"
     ]
    },
    {
     "name": "stdout",
     "output_type": "stream",
     "text": [
      "Node: 2 Page Rank: 0.13187903564453124\n",
      "Node: 3 Page Rank: 0.13006608154296873\n",
      "Node: 4 Page Rank: 0.1744451171875\n"
     ]
    }
   ],
   "source": [
    "# Paso 1: Preparar RDD con Page Ranks iniciales\n",
    "ranks = initialize_page_ranks(nodes)\n",
    "\n",
    "# Inicializar variables para la verificación de convergencia\n",
    "prev_ranks = None\n",
    "current_ranks = ranks\n",
    "\n",
    "# Iterar el algoritmo hasta que se alcance la convergencia o el número máximo de iteraciones\n",
    "for iteration in range(max_iterations):\n",
    "    # Paso 2: Intercambio de mensajes entre nodos\n",
    "    messages = exchange_messages(nodes, edges, current_ranks)\n",
    "\n",
    "    # Paso 3: Actualización del valor de Page Rank\n",
    "    ranks = update_page_ranks(messages, damping_factor, len(nodes))\n",
    "\n",
    "    # Comprobar convergencia\n",
    "    if iteration > 0:\n",
    "        prev_ranks = current_ranks\n",
    "    current_ranks = ranks\n",
    "    if iteration > 0 and check_convergence(prev_ranks, current_ranks, tolerance):\n",
    "        break\n",
    "\n",
    "# Resultado final: cada nodo junto con su valor de Page Rank\n",
    "result = ranks.collect()\n",
    "for node, rank in result:\n",
    "    print(\"Node:\", node, \"Page Rank:\", rank)\n",
    "\n",
    "# Detener SparkContext\n",
    "sc.stop()"
   ]
  },
  {
   "attachments": {},
   "cell_type": "markdown",
   "metadata": {},
   "source": [
    "## Single source shortest path en entorno distribuido"
   ]
  },
  {
   "cell_type": "code",
   "execution_count": 10,
   "metadata": {},
   "outputs": [],
   "source": [
    "sc = SparkContext(\"local\", \"SSSP\")"
   ]
  },
  {
   "cell_type": "code",
   "execution_count": 11,
   "metadata": {},
   "outputs": [],
   "source": [
    "# Función para inicializar el grafo con distancias iniciales\n",
    "def initialize_graph(nodes, source):\n",
    "    distances = [(node, float('inf')) for node in nodes]\n",
    "    distances[source] = (source, 0.0)\n",
    "    return sc.parallelize(distances)\n",
    "\n",
    "# Función para propagar las distancias a los nodos vecinos\n",
    "def propagate_distances(node, neighbors, distance):\n",
    "    propagated_distances = [(neighbor, distance + weight) for neighbor, weight in neighbors]\n",
    "    propagated_distances.append((node, distance))  # Mantener la distancia actual del nodo\n",
    "    return propagated_distances\n",
    "\n",
    "# Función para actualizar las distancias en cada iteración\n",
    "def update_distances(distances, propagated_distances):\n",
    "    return distances.union(propagated_distances).reduceByKey(min)"
   ]
  },
  {
   "cell_type": "code",
   "execution_count": 12,
   "metadata": {},
   "outputs": [],
   "source": [
    "# Grafo de ejemplo con pesos en las aristas\n",
    "nodes = [0, 1, 2, 3, 4, 5]\n",
    "edges = [(0, [(1, 2), (2, 4)]), (1, [(0, 2), (2, 1), (3, 5)]), (2, [(0, 4), (1, 1), (4, 3)]),\n",
    "         (3, [(1, 5), (4, 1), (5, 2)]), (4, [(2, 3), (3, 1), (5, 6)]), (5, [(3, 2), (4, 6)])]\n",
    "\n",
    "# Nodo fuente\n",
    "source_node = 0"
   ]
  },
  {
   "cell_type": "code",
   "execution_count": 13,
   "metadata": {},
   "outputs": [
    {
     "name": "stderr",
     "output_type": "stream",
     "text": [
      "                                                                                \r"
     ]
    },
    {
     "name": "stdout",
     "output_type": "stream",
     "text": [
      "Node: 0 Distance: 0.0\n",
      "Node: 1 Distance: 2.0\n",
      "Node: 2 Distance: 3.0\n",
      "Node: 3 Distance: 7.0\n",
      "Node: 4 Distance: 6.0\n",
      "Node: 5 Distance: 9.0\n"
     ]
    }
   ],
   "source": [
    "# Paso 1: Inicializar el grafo con distancias iniciales\n",
    "distances = initialize_graph(nodes, source_node)\n",
    "\n",
    "# Iterar el algoritmo hasta que se alcance la convergencia\n",
    "while True:\n",
    "    # Paso 2: Propagar las distancias a los nodos vecinos\n",
    "    propagated_distances = sc.parallelize(edges).join(distances).flatMap(\n",
    "        lambda x: propagate_distances(x[0], x[1][0], x[1][1]))\n",
    "\n",
    "    # Paso 3: Actualizar las distancias\n",
    "    new_distances = update_distances(distances, propagated_distances)\n",
    "\n",
    "    # Comprobar convergencia\n",
    "    if new_distances.subtract(distances).count() == 0:\n",
    "        break\n",
    "\n",
    "    distances = new_distances\n",
    "\n",
    "# Resultado final: cada nodo junto con su distancia mínima desde el nodo fuente\n",
    "result = distances.collect()\n",
    "for node, distance in result:\n",
    "    print(\"Node:\", node, \"Distance:\", distance)\n",
    "\n",
    "# Detener SparkContext\n",
    "sc.stop()\n"
   ]
  },
  {
   "cell_type": "code",
   "execution_count": null,
   "metadata": {},
   "outputs": [],
   "source": []
  }
 ],
 "metadata": {
  "kernelspec": {
   "display_name": "venv",
   "language": "python",
   "name": "python3"
  },
  "language_info": {
   "codemirror_mode": {
    "name": "ipython",
    "version": 3
   },
   "file_extension": ".py",
   "mimetype": "text/x-python",
   "name": "python",
   "nbconvert_exporter": "python",
   "pygments_lexer": "ipython3",
   "version": "3.10.6"
  },
  "orig_nbformat": 4
 },
 "nbformat": 4,
 "nbformat_minor": 2
}
