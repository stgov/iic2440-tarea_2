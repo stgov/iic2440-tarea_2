{
 "cells": [
  {
   "cell_type": "code",
   "execution_count": null,
   "metadata": {},
   "outputs": [],
   "source": [
    "from pyspark import SparkContext"
   ]
  },
  {
   "cell_type": "code",
   "execution_count": null,
   "metadata": {},
   "outputs": [],
   "source": [
    "# Inicializar SparkContext\n",
    "sc = SparkContext(\"local\", \"SSSP\")"
   ]
  },
  {
   "cell_type": "code",
   "execution_count": 4,
   "metadata": {},
   "outputs": [],
   "source": [
    "# Función para inicializar el grafo con distancias iniciales\n",
    "def initialize_graph(nodes, source):\n",
    "    distances = [(node, float('inf')) for node in nodes]\n",
    "    distances[source] = (source, 0.0)\n",
    "    return sc.parallelize(distances)\n",
    "\n",
    "# Función para propagar las distancias a los nodos vecinos\n",
    "def propagate_distances(node, neighbors, distance):\n",
    "    propagated_distances = [(neighbor, distance + 1) for neighbor in neighbors]\n",
    "    propagated_distances.append((node, distance))  # Mantener la distancia actual del nodo\n",
    "    return propagated_distances\n",
    "\n",
    "# Función para actualizar las distancias en cada iteración\n",
    "def update_distances(distances, propagated_distances):\n",
    "    return distances.union(propagated_distances).reduceByKey(min)"
   ]
  },
  {
   "cell_type": "code",
   "execution_count": null,
   "metadata": {},
   "outputs": [],
   "source": [
    "nodes = [0, 1, 2, 3, 4, 5]\n",
    "edges = [(0, [1, 2]), (1, [0, 2, 3]), (2, [0, 1, 4]), (3, [1, 4, 5]), (4, [2, 3, 5]), (5, [3, 4])]"
   ]
  },
  {
   "cell_type": "code",
   "execution_count": 3,
   "metadata": {},
   "outputs": [
    {
     "name": "stderr",
     "output_type": "stream",
     "text": [
      "23/06/24 18:37:06 WARN Utils: Service 'SparkUI' could not bind on port 4040. Attempting port 4041.\n",
      "                                                                                \r"
     ]
    },
    {
     "name": "stdout",
     "output_type": "stream",
     "text": [
      "Node: 0 Distance: 0.0\n",
      "Node: 1 Distance: 1.0\n",
      "Node: 2 Distance: 1.0\n",
      "Node: 3 Distance: 2.0\n",
      "Node: 4 Distance: 2.0\n",
      "Node: 5 Distance: 3.0\n"
     ]
    }
   ],
   "source": [
    "# Nodo fuente\n",
    "source_node = 0\n",
    "\n",
    "# Paso 1: Inicializar el grafo con distancias iniciales\n",
    "distances = initialize_graph(nodes, source_node)\n",
    "\n",
    "# Iterar el algoritmo hasta que se alcance la convergencia\n",
    "while True:\n",
    "    # Paso 2: Propagar las distancias a los nodos vecinos\n",
    "    propagated_distances = sc.parallelize(edges).join(distances).flatMap(lambda x: propagate_distances(x[0], x[1][0], x[1][1]))\n",
    "\n",
    "    # Paso 3: Actualizar las distancias\n",
    "    new_distances = update_distances(distances, propagated_distances)\n",
    "\n",
    "    # Comprobar convergencia\n",
    "    if new_distances.subtract(distances).count() == 0:\n",
    "        break\n",
    "\n",
    "    distances = new_distances\n",
    "\n",
    "# Resultado final: cada nodo junto con su distancia mínima desde el nodo fuente\n",
    "result = distances.collect()\n",
    "for node, distance in result:\n",
    "    print(\"Node:\", node, \"Distance:\", distance)\n",
    "\n",
    "# Detener SparkContext\n",
    "sc.stop()\n"
   ]
  }
 ],
 "metadata": {
  "kernelspec": {
   "display_name": "venv",
   "language": "python",
   "name": "python3"
  },
  "language_info": {
   "codemirror_mode": {
    "name": "ipython",
    "version": 3
   },
   "file_extension": ".py",
   "mimetype": "text/x-python",
   "name": "python",
   "nbconvert_exporter": "python",
   "pygments_lexer": "ipython3",
   "version": "3.10.6"
  },
  "orig_nbformat": 4
 },
 "nbformat": 4,
 "nbformat_minor": 2
}
